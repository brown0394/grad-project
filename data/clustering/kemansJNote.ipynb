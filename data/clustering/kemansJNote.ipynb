{
 "cells": [
  {
   "cell_type": "code",
   "execution_count": 1,
   "id": "74870a03",
   "metadata": {},
   "outputs": [],
   "source": [
    "import numpy as np\n",
    "import pandas as pd\n",
    "from sklearn.cluster import KMeans\n",
    "from sklearn.preprocessing import MinMaxScaler\n",
    "import matplotlib.pyplot as plt\n",
    "%matplotlib tk"
   ]
  },
  {
   "cell_type": "code",
   "execution_count": 19,
   "id": "66ff9579",
   "metadata": {},
   "outputs": [
    {
     "data": {
      "text/html": [
       "<div>\n",
       "<style scoped>\n",
       "    .dataframe tbody tr th:only-of-type {\n",
       "        vertical-align: middle;\n",
       "    }\n",
       "\n",
       "    .dataframe tbody tr th {\n",
       "        vertical-align: top;\n",
       "    }\n",
       "\n",
       "    .dataframe thead th {\n",
       "        text-align: right;\n",
       "    }\n",
       "</style>\n",
       "<table border=\"1\" class=\"dataframe\">\n",
       "  <thead>\n",
       "    <tr style=\"text-align: right;\">\n",
       "      <th></th>\n",
       "      <th>Sector Number</th>\n",
       "      <th>Frequency</th>\n",
       "      <th>Time Interval Avg</th>\n",
       "      <th>total # of blocks</th>\n",
       "    </tr>\n",
       "  </thead>\n",
       "  <tbody>\n",
       "    <tr>\n",
       "      <th>0</th>\n",
       "      <td>753921</td>\n",
       "      <td>90736</td>\n",
       "      <td>0.459198</td>\n",
       "      <td>544416</td>\n",
       "    </tr>\n",
       "    <tr>\n",
       "      <th>1</th>\n",
       "      <td>240840</td>\n",
       "      <td>48735</td>\n",
       "      <td>0.886414</td>\n",
       "      <td>292465</td>\n",
       "    </tr>\n",
       "    <tr>\n",
       "      <th>2</th>\n",
       "      <td>836706</td>\n",
       "      <td>31787</td>\n",
       "      <td>1.296780</td>\n",
       "      <td>195293</td>\n",
       "    </tr>\n",
       "    <tr>\n",
       "      <th>3</th>\n",
       "      <td>837306</td>\n",
       "      <td>31704</td>\n",
       "      <td>1.299350</td>\n",
       "      <td>192217</td>\n",
       "    </tr>\n",
       "    <tr>\n",
       "      <th>4</th>\n",
       "      <td>700132</td>\n",
       "      <td>31288</td>\n",
       "      <td>1.156710</td>\n",
       "      <td>247313</td>\n",
       "    </tr>\n",
       "  </tbody>\n",
       "</table>\n",
       "</div>"
      ],
      "text/plain": [
       "   Sector Number  Frequency  Time Interval Avg  total # of blocks\n",
       "0         753921      90736           0.459198             544416\n",
       "1         240840      48735           0.886414             292465\n",
       "2         836706      31787           1.296780             195293\n",
       "3         837306      31704           1.299350             192217\n",
       "4         700132      31288           1.156710             247313"
      ]
     },
     "execution_count": 19,
     "metadata": {},
     "output_type": "execute_result"
    }
   ],
   "source": [
    "testFileDirectory = \"C:/msys64/home/sungc/temo/2/testDataConv.csv\"\n",
    "trainFileDirectory = \"C:/msys64/home/sungc/temo/2/trainDataConv.csv\"\n",
    "dataFile = pd.read_csv(testFileDirectory)\n",
    "dataFile.head()"
   ]
  },
  {
   "cell_type": "code",
   "execution_count": 20,
   "id": "f90a18b0",
   "metadata": {},
   "outputs": [],
   "source": [
    "data = dataFile[['Frequency', 'Time Interval Avg']]#, 'total # of blocks']]\n",
    "scaler = MinMaxScaler()\n",
    "data_scale = scaler.fit_transform(data)#정규화"
   ]
  },
  {
   "cell_type": "code",
   "execution_count": 21,
   "id": "01b73c57",
   "metadata": {},
   "outputs": [],
   "source": [
    "k = 2\n",
    "model = KMeans(n_clusters=k)\n",
    "model.fit(data)\n",
    "dataFile['cluster'] = model.fit_predict(data)"
   ]
  },
  {
   "cell_type": "code",
   "execution_count": 22,
   "id": "659de51c",
   "metadata": {},
   "outputs": [],
   "source": [
    "plt.figure(figsize = (8, 8))\n",
    "\n",
    "for i in range(k):\n",
    "    plt.scatter(dataFile.loc[dataFile['cluster'] == i, 'Frequency'], dataFile.loc[dataFile['cluster'] == i, 'Time Interval Avg'], \n",
    "                label = 'cluster ' + str(i))\n",
    "\n",
    "plt.legend()\n",
    "plt.title('K = %d results'%k , size = 15)\n",
    "plt.xlabel('Frequency', size = 12)\n",
    "plt.ylabel('Time Interval Avg', size = 12)\n",
    "plt.show()"
   ]
  },
  {
   "cell_type": "code",
   "execution_count": 24,
   "id": "466c5a7e",
   "metadata": {},
   "outputs": [],
   "source": [
    "fig = plt.figure()\n",
    "ax = fig.add_subplot(111, projection='3d')\n",
    "x = dataFile['Frequency']\n",
    "y = dataFile['Time Interval Avg']\n",
    "z = dataFile['total # of blocks']\n",
    "\n",
    "ax.scatter(x,y,z, marker=\"s\", c=dataFile[\"cluster\"], s=40, cmap=\"RdBu\")\n",
    "\n",
    "plt.show()"
   ]
  },
  {
   "cell_type": "code",
   "execution_count": 23,
   "id": "955e8c36",
   "metadata": {},
   "outputs": [],
   "source": [
    "dataFile.to_csv('clustered.csv', index=False)"
   ]
  },
  {
   "cell_type": "code",
   "execution_count": null,
   "id": "81b9b89f",
   "metadata": {},
   "outputs": [],
   "source": []
  }
 ],
 "metadata": {
  "kernelspec": {
   "display_name": "Python 3",
   "language": "python",
   "name": "python3"
  },
  "language_info": {
   "codemirror_mode": {
    "name": "ipython",
    "version": 3
   },
   "file_extension": ".py",
   "mimetype": "text/x-python",
   "name": "python",
   "nbconvert_exporter": "python",
   "pygments_lexer": "ipython3",
   "version": "3.8.8"
  }
 },
 "nbformat": 4,
 "nbformat_minor": 5
}
