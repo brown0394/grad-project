{
 "cells": [
  {
   "cell_type": "code",
   "execution_count": 2,
   "id": "74870a03",
   "metadata": {},
   "outputs": [],
   "source": [
    "import numpy as np\n",
    "import pandas as pd\n",
    "from sklearn.cluster import KMeans\n",
    "#from sklearn.preprocessing import MinMaxScaler\n",
    "from sklearn.preprocessing import StandardScaler\n",
    "import matplotlib.pyplot as plt\n",
    "%matplotlib tk"
   ]
  },
  {
   "cell_type": "code",
   "execution_count": 29,
   "id": "66ff9579",
   "metadata": {},
   "outputs": [
    {
     "data": {
      "text/html": [
       "<div>\n",
       "<style scoped>\n",
       "    .dataframe tbody tr th:only-of-type {\n",
       "        vertical-align: middle;\n",
       "    }\n",
       "\n",
       "    .dataframe tbody tr th {\n",
       "        vertical-align: top;\n",
       "    }\n",
       "\n",
       "    .dataframe thead th {\n",
       "        text-align: right;\n",
       "    }\n",
       "</style>\n",
       "<table border=\"1\" class=\"dataframe\">\n",
       "  <thead>\n",
       "    <tr style=\"text-align: right;\">\n",
       "      <th></th>\n",
       "      <th>Sector Number</th>\n",
       "      <th>Frequency</th>\n",
       "      <th>Time Interval Avg</th>\n",
       "      <th>Time Interval Std Deriv</th>\n",
       "      <th>Total # of Blocks</th>\n",
       "    </tr>\n",
       "  </thead>\n",
       "  <tbody>\n",
       "    <tr>\n",
       "      <th>0</th>\n",
       "      <td>8488</td>\n",
       "      <td>966</td>\n",
       "      <td>36.08076</td>\n",
       "      <td>20060.26401</td>\n",
       "      <td>7728</td>\n",
       "    </tr>\n",
       "    <tr>\n",
       "      <th>1</th>\n",
       "      <td>205888</td>\n",
       "      <td>948</td>\n",
       "      <td>36.72951</td>\n",
       "      <td>20038.61273</td>\n",
       "      <td>7584</td>\n",
       "    </tr>\n",
       "    <tr>\n",
       "      <th>2</th>\n",
       "      <td>206064</td>\n",
       "      <td>948</td>\n",
       "      <td>36.76656</td>\n",
       "      <td>19881.60064</td>\n",
       "      <td>7584</td>\n",
       "    </tr>\n",
       "    <tr>\n",
       "      <th>3</th>\n",
       "      <td>74328</td>\n",
       "      <td>947</td>\n",
       "      <td>36.76833</td>\n",
       "      <td>20192.84732</td>\n",
       "      <td>7576</td>\n",
       "    </tr>\n",
       "    <tr>\n",
       "      <th>4</th>\n",
       "      <td>74408</td>\n",
       "      <td>945</td>\n",
       "      <td>36.88340</td>\n",
       "      <td>20118.25940</td>\n",
       "      <td>7560</td>\n",
       "    </tr>\n",
       "  </tbody>\n",
       "</table>\n",
       "</div>"
      ],
      "text/plain": [
       "   Sector Number  Frequency  Time Interval Avg  Time Interval Std Deriv  \\\n",
       "0           8488        966           36.08076              20060.26401   \n",
       "1         205888        948           36.72951              20038.61273   \n",
       "2         206064        948           36.76656              19881.60064   \n",
       "3          74328        947           36.76833              20192.84732   \n",
       "4          74408        945           36.88340              20118.25940   \n",
       "\n",
       "   Total # of Blocks  \n",
       "0               7728  \n",
       "1               7584  \n",
       "2               7584  \n",
       "3               7576  \n",
       "4               7560  "
      ]
     },
     "execution_count": 29,
     "metadata": {},
     "output_type": "execute_result"
    }
   ],
   "source": [
    "testFileDirectory = \"C:/msys64/home/sungc/temo/2/testData.csv\"\n",
    "trainFileDirectory = \"C:/msys64/home/sungc/temo/2/trainData.csv\"\n",
    "dataFile = pd.read_csv(trainFileDirectory)\n",
    "dataFile.head()"
   ]
  },
  {
   "cell_type": "code",
   "execution_count": 30,
   "id": "f90a18b0",
   "metadata": {},
   "outputs": [],
   "source": [
    "data = dataFile[['Frequency', 'Time Interval Avg', 'Time Interval Std Deriv', 'Total # of Blocks']]\n",
    "#scaler = MinMaxScaler()\n",
    "#data_scale = scaler.fit_transform(data)#정규화\n",
    "scaler = StandardScaler()#데이터 정규화\n",
    "data_scale = pd.DataFrame(scaler.fit_transform(data), columns = data.columns)"
   ]
  },
  {
   "cell_type": "code",
   "execution_count": 31,
   "id": "01b73c57",
   "metadata": {},
   "outputs": [],
   "source": [
    "k = 4\n",
    "model = KMeans(n_clusters=k, n_init=50)\n",
    "model.fit(data)\n",
    "dataFile['cluster'] = model.fit_predict(data)"
   ]
  },
  {
   "cell_type": "code",
   "execution_count": 32,
   "id": "659de51c",
   "metadata": {},
   "outputs": [],
   "source": [
    "plt.figure(figsize = (8, 8))\n",
    "\n",
    "for i in range(k):\n",
    "    plt.scatter(dataFile.loc[dataFile['cluster'] == i, 'Frequency'], dataFile.loc[dataFile['cluster'] == i, 'Time Interval Avg'], \n",
    "                label = 'cluster ' + str(i))\n",
    "\n",
    "plt.legend()\n",
    "plt.title('K = %d results'%k , size = 15)\n",
    "plt.xlabel('Frequency', size = 12)\n",
    "plt.ylabel('Time Interval Avg', size = 12)\n",
    "plt.show()"
   ]
  },
  {
   "cell_type": "code",
   "execution_count": 28,
   "id": "466c5a7e",
   "metadata": {},
   "outputs": [],
   "source": [
    "fig = plt.figure()\n",
    "ax = fig.add_subplot(111, projection='3d')\n",
    "x = dataFile['Frequency']\n",
    "y = dataFile['Time Interval Avg']\n",
    "z = dataFile['Time Interval Std Deriv']\n",
    "\n",
    "ax.scatter(x,y,z, marker=\"s\", c=dataFile[\"cluster\"], s=40, cmap=\"RdBu\")\n",
    "\n",
    "plt.show()"
   ]
  },
  {
   "cell_type": "code",
   "execution_count": 33,
   "id": "955e8c36",
   "metadata": {},
   "outputs": [],
   "source": [
    "dataFile.to_csv('trainDataClusteredSize.csv', index=False)"
   ]
  },
  {
   "cell_type": "code",
   "execution_count": null,
   "id": "81b9b89f",
   "metadata": {},
   "outputs": [],
   "source": []
  }
 ],
 "metadata": {
  "kernelspec": {
   "display_name": "Python 3",
   "language": "python",
   "name": "python3"
  },
  "language_info": {
   "codemirror_mode": {
    "name": "ipython",
    "version": 3
   },
   "file_extension": ".py",
   "mimetype": "text/x-python",
   "name": "python",
   "nbconvert_exporter": "python",
   "pygments_lexer": "ipython3",
   "version": "3.8.8"
  }
 },
 "nbformat": 4,
 "nbformat_minor": 5
}
