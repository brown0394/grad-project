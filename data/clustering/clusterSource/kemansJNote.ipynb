{
 "cells": [
  {
   "cell_type": "code",
   "execution_count": 1,
   "id": "74870a03",
   "metadata": {},
   "outputs": [],
   "source": [
    "import numpy as np\n",
    "import pandas as pd\n",
    "from sklearn.cluster import KMeans\n",
    "#from sklearn.preprocessing import MinMaxScaler\n",
    "from sklearn.preprocessing import StandardScaler\n",
    "import matplotlib.pyplot as plt\n",
    "%matplotlib tk"
   ]
  },
  {
   "cell_type": "code",
   "execution_count": 7,
   "id": "66ff9579",
   "metadata": {},
   "outputs": [
    {
     "data": {
      "text/html": [
       "<div>\n",
       "<style scoped>\n",
       "    .dataframe tbody tr th:only-of-type {\n",
       "        vertical-align: middle;\n",
       "    }\n",
       "\n",
       "    .dataframe tbody tr th {\n",
       "        vertical-align: top;\n",
       "    }\n",
       "\n",
       "    .dataframe thead th {\n",
       "        text-align: right;\n",
       "    }\n",
       "</style>\n",
       "<table border=\"1\" class=\"dataframe\">\n",
       "  <thead>\n",
       "    <tr style=\"text-align: right;\">\n",
       "      <th></th>\n",
       "      <th>Sector Number</th>\n",
       "      <th>Frequency</th>\n",
       "      <th>Time Interval Avg</th>\n",
       "      <th>Time Interval Std Deriv</th>\n",
       "      <th>Total # of Blocks</th>\n",
       "    </tr>\n",
       "  </thead>\n",
       "  <tbody>\n",
       "    <tr>\n",
       "      <th>0</th>\n",
       "      <td>861022</td>\n",
       "      <td>13642</td>\n",
       "      <td>2.98209</td>\n",
       "      <td>19683.90117</td>\n",
       "      <td>13642</td>\n",
       "    </tr>\n",
       "    <tr>\n",
       "      <th>1</th>\n",
       "      <td>130479</td>\n",
       "      <td>7618</td>\n",
       "      <td>5.36959</td>\n",
       "      <td>22724.94396</td>\n",
       "      <td>7618</td>\n",
       "    </tr>\n",
       "    <tr>\n",
       "      <th>2</th>\n",
       "      <td>584904</td>\n",
       "      <td>5126</td>\n",
       "      <td>5.78247</td>\n",
       "      <td>19149.96379</td>\n",
       "      <td>5126</td>\n",
       "    </tr>\n",
       "    <tr>\n",
       "      <th>3</th>\n",
       "      <td>130480</td>\n",
       "      <td>3061</td>\n",
       "      <td>12.79376</td>\n",
       "      <td>20273.99998</td>\n",
       "      <td>3061</td>\n",
       "    </tr>\n",
       "    <tr>\n",
       "      <th>4</th>\n",
       "      <td>613136</td>\n",
       "      <td>2804</td>\n",
       "      <td>14.56537</td>\n",
       "      <td>18914.06597</td>\n",
       "      <td>2804</td>\n",
       "    </tr>\n",
       "  </tbody>\n",
       "</table>\n",
       "</div>"
      ],
      "text/plain": [
       "   Sector Number  Frequency  Time Interval Avg  Time Interval Std Deriv  \\\n",
       "0         861022      13642            2.98209              19683.90117   \n",
       "1         130479       7618            5.36959              22724.94396   \n",
       "2         584904       5126            5.78247              19149.96379   \n",
       "3         130480       3061           12.79376              20273.99998   \n",
       "4         613136       2804           14.56537              18914.06597   \n",
       "\n",
       "   Total # of Blocks  \n",
       "0              13642  \n",
       "1               7618  \n",
       "2               5126  \n",
       "3               3061  \n",
       "4               2804  "
      ]
     },
     "execution_count": 7,
     "metadata": {},
     "output_type": "execute_result"
    }
   ],
   "source": [
    "testFileDirectory = \"C:/msys64/home/sungc/temo/2/testDataSorted.csv\"\n",
    "trainFileDirectory = \"C:/msys64/home/sungc/temo/2/Fisorted.csv\"\n",
    "dataFile = pd.read_csv(trainFileDirectory)\n",
    "dataFile.head()"
   ]
  },
  {
   "cell_type": "code",
   "execution_count": 8,
   "id": "f90a18b0",
   "metadata": {},
   "outputs": [],
   "source": [
    "data = dataFile[['Frequency', 'Time Interval Avg', 'Time Interval Std Deriv']]\n",
    "#scaler = MinMaxScaler()\n",
    "#data_scale = scaler.fit_transform(data)#정규화\n",
    "scaler = StandardScaler()#데이터 정규화\n",
    "data_scale = pd.DataFrame(scaler.fit_transform(data), columns = data.columns)"
   ]
  },
  {
   "cell_type": "code",
   "execution_count": 9,
   "id": "01b73c57",
   "metadata": {},
   "outputs": [],
   "source": [
    "k = 4\n",
    "model = KMeans(n_clusters=k, n_init=50)\n",
    "model.fit(data)\n",
    "dataFile['cluster'] = model.fit_predict(data)"
   ]
  },
  {
   "cell_type": "code",
   "execution_count": 10,
   "id": "659de51c",
   "metadata": {},
   "outputs": [],
   "source": [
    "plt.figure(figsize = (8, 8))\n",
    "\n",
    "for i in range(k):\n",
    "    plt.scatter(dataFile.loc[dataFile['cluster'] == i, 'Frequency'], dataFile.loc[dataFile['cluster'] == i, 'Time Interval Avg'], \n",
    "                label = 'cluster ' + str(i))\n",
    "\n",
    "plt.legend()\n",
    "plt.title('K = %d results'%k , size = 15)\n",
    "plt.xlabel('Frequency', size = 12)\n",
    "plt.ylabel('Time Interval Avg', size = 12)\n",
    "plt.show()"
   ]
  },
  {
   "cell_type": "code",
   "execution_count": 11,
   "id": "466c5a7e",
   "metadata": {},
   "outputs": [],
   "source": [
    "fig = plt.figure()\n",
    "ax = fig.add_subplot(111, projection='3d')\n",
    "x = dataFile['Frequency']\n",
    "y = dataFile['Time Interval Avg']\n",
    "z = dataFile['Time Interval Std Deriv']\n",
    "\n",
    "ax.scatter(x,y,z, marker=\"s\", c=dataFile[\"cluster\"], s=40, cmap=\"RdBu\")\n",
    "\n",
    "plt.show()"
   ]
  },
  {
   "cell_type": "code",
   "execution_count": 6,
   "id": "955e8c36",
   "metadata": {},
   "outputs": [],
   "source": [
    "dataFile.to_csv('Ficlustered.csv', index=False)"
   ]
  },
  {
   "cell_type": "code",
   "execution_count": null,
   "id": "81b9b89f",
   "metadata": {},
   "outputs": [],
   "source": []
  }
 ],
 "metadata": {
  "kernelspec": {
   "display_name": "Python 3",
   "language": "python",
   "name": "python3"
  },
  "language_info": {
   "codemirror_mode": {
    "name": "ipython",
    "version": 3
   },
   "file_extension": ".py",
   "mimetype": "text/x-python",
   "name": "python",
   "nbconvert_exporter": "python",
   "pygments_lexer": "ipython3",
   "version": "3.8.8"
  }
 },
 "nbformat": 4,
 "nbformat_minor": 5
}
